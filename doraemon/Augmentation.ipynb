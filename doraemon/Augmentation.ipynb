{
  "nbformat": 4,
  "nbformat_minor": 0,
  "metadata": {
    "colab": {
      "name": "Augmentation",
      "provenance": []
    },
    "kernelspec": {
      "name": "python3",
      "display_name": "Python 3"
    }
  },
  "cells": [
    {
      "cell_type": "code",
      "metadata": {
        "id": "lBEof_od7fCm"
      },
      "source": [
        "import os\r\n",
        "import glob\r\n",
        "import numpy as np\r\n",
        "from keras.preprocessing.image import ImageDataGenerator, load_img, img_to_array, array_to_img\r\n",
        "\r\n",
        "def draw_images(generator, x, dir_name, index):\r\n",
        "    # 出力ファイルの設定\r\n",
        "    save_name = 'extened-' + str(index)\r\n",
        "    g = generator.flow(x, batch_size=1, save_to_dir=output_dir, save_prefix=save_name, save_format='jpg')\r\n",
        "\r\n",
        "    # 1つの入力画像から何枚拡張するかを指定\r\n",
        "    # g.next()の回数分拡張される\r\n",
        "    for i in range(10):\r\n",
        "        bach = g.next()\r\n",
        "\r\n",
        "\r\n",
        "if __name__ == '__main__':\r\n",
        "\r\n",
        "    # 出力先ディレクトリの設定\r\n",
        "    output_dir = \"extended\"\r\n",
        "    if not(os.path.exists(output_dir)):\r\n",
        "        os.mkdir(output_dir)\r\n",
        "\r\n",
        "    # 拡張する画像群の読み込み\r\n",
        "    images = glob.glob(os.path.join('./data/', \"*.jpg\"))\r\n",
        "\r\n",
        "    # 拡張する際の設定\r\n",
        "    generator = ImageDataGenerator(\r\n",
        "                    rotation_range=10, # 90°まで回転\r\n",
        "                    width_shift_range=0.1, # 水平方向にランダムでシフト\r\n",
        "                    height_shift_range=0.1, # 垂直方向にランダムでシフト\r\n",
        "                    channel_shift_range=20.0, # 色調をランダム変更\r\n",
        "                    shear_range=0.1, # 斜め方向(pi/8まで)に引っ張る\r\n",
        "                    horizontal_flip=True, # 垂直方向にランダムで反転\r\n",
        "                    vertical_flip=False # 水平方向にランダムで反転\r\n",
        "                    )\r\n",
        "\r\n",
        "    # 読み込んだ画像を順に拡張\r\n",
        "    for i in range(len(images)):\r\n",
        "        img = load_img(images[i])\r\n",
        "        # 画像を配列化して転置a\r\n",
        "        x = img_to_array(img)\r\n",
        "        x = np.expand_dims(x, axis=0)\r\n",
        "        # 画像の拡張\r\n",
        "        draw_images(generator, x, output_dir, i)"
      ],
      "execution_count": 6,
      "outputs": []
    },
    {
      "cell_type": "code",
      "metadata": {
        "id": "FI9cnRm2_ENe"
      },
      "source": [
        ""
      ],
      "execution_count": null,
      "outputs": []
    }
  ]
}